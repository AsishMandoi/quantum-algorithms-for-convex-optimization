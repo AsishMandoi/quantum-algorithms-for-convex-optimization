{
 "cells": [
  {
   "cell_type": "markdown",
   "metadata": {},
   "source": [
    "# To Read/Watch\n",
    "\n",
    "*A nice overview of [Quantum Algorithms for Optimization | Quantum Colloquium](https://youtu.be/1-2LIopvNIk)*\n",
    "\n",
    "1. A Quantum View on Convex Optimization\n",
    "2. Convex optimization using quantum oracles\n",
    "3. **Quantum Speed-ups for Semidefinite Programming**\n",
    "4. **Quantum Algorithms for Escaping from Saddle Points**, [QIP2021 | Quantum algorithms for escaping from saddle points (Jiaqi Leng)](https://youtu.be/xbHqktWa354)\n",
    "5. **Quantum algorithms for zero-sum games**\n",
    "6. Provable quantum state tomography via non-convex methods\n",
    "7. On convex optimization problems in quantum information theory\n",
    "8. Quantum Information and Convex Optimization\n",
    "9. Combinatorial optimisation via highly efficient quantum walks"
   ]
  },
  {
   "cell_type": "markdown",
   "metadata": {},
   "source": [
    "# Applications of LP/SDP/General Convex Optimization\n",
    "\n",
    "### Saddle Points (Gradient Descent)\n",
    "- \"*Quantum Algorithms for Escaping from Saddle Points*\" Chenyi Zhang, Jiaqi Leng, and Tongyang Li\n",
    "\n",
    "### Games\n",
    "- \"*Minimax and Convex - Concave Games*\", Arpita Ghosh and Stephen Boyd\n",
    "- \"*Quantum algorithms for zero-sum games*\", Joran van Apeldoorn and Andras Gilyen\n",
    "\n",
    "### Quantum Error Correction\n",
    "- \"*Quantum Information and Convex Optimization*\" (Dissertation)\n",
    "\n",
    "### State Tomography\n",
    "- \"*Quantum Information and Convex Optimization*\" (Dissertation)\n",
    "- \"*Provable quantum state tomography via non-convex methods*\", Anastasios Kyrillidis, Amir Kalev, Dohuyng Park, Srinadh Bhojanapalli, Constantine Caramanis, and Sujay Sanghavi\n",
    "\n",
    "### Entanglement Estimation\n",
    "- \"*Quantum Information and Convex Optimization*\" (Dissertation)\n",
    "- \"*On convex optimization problems in quantum information theory*\", Mark W. Girard, Gilad Gour, and Shmuel Friedland\n",
    "\n",
    "### Combinatorial Optimization (?), Max-cut Problem"
   ]
  },
  {
   "cell_type": "markdown",
   "metadata": {},
   "source": [
    "# 1. A Quantum View on Convex Optimization\n",
    "\n",
    "This thesis asks the following central question\n",
    "<br>\n",
    "*Can quantum computers solve convex optimization problems faster?*\n",
    "\n",
    "In order to answer this question we consider a few different types of problem that we may encounter in convex optimization. If we have some black-box procedure to evaluate how good a proposed solution to a convex optimization problem is, for example a way of estimating the height of apoint in the Alps or a method of estimating our profits given a business strategy, then a classical computer would have to try a lot of small changes in order to find the change that improves our objective the most. However, we show that a quantum computer can find the optimal direction for improvement **exponentially faster**.\n",
    "\n",
    "We then consider specific categories of convex optimization problems, mainly linear programming and semidefinite programming. These problem categories include many natural problems and have been widely used both for theoretical and practical purposes. For example, **linear programming** can be used for finding the optimal strategies of zero-sum games, coming up with a diet plan, or planning resources. **Semidefinite programming** is a generalization of linear programming and can additionally be useful for designing optimal experiments, approximately solving hard problems, or optimize processes involving quantum mechanics. Our quantum algorithms for these problems use a natural connection between quantum physics and semidefinite programming: the solutions to a semidefinite programming problem correspond to the states of a quantum system. **We show that quantum computers can solve semidefinite programming problems and linear programming problems quadratically faster than a classical computer can**. In fact, our algorithms take less time to solve the problem than that it would take to read through the whole input."
   ]
  },
  {
   "cell_type": "markdown",
   "metadata": {},
   "source": [
    "# 2. Convex Optimization using Quantum oracles\n",
    "\n",
    "\n",
    "## Abstract\n",
    "- We study to what extent quantum algorithms can speed up solving convex optimization problems.\n",
    "\n",
    "- We examine the efficiency of reductions between the different oracles\n",
    "\n",
    "- We show how a separation oracle can be implemented using eO (1) quantum queries to a membership oracle, (which is an exponential quantum speed-up over the \n",
    "(n) membership queries that are needed classically).\n",
    "\n",
    "- We show that a quantum computer can very efficiently **compute an approximate subgradient of a convex Lipschitz function**.\n",
    "\n",
    "- Combining this with a simplification of recent classical work gives our efficient separation oracle. This in turn implies, via a known algorithm, that $\\mathcal{\\tilde O}(n)$ quantum queries to a membership oracle suffice to implement an optimization oracle (the best known classical upper bound on the number of membership queries is quadratic).\n",
    "\n",
    "- We also prove several lower bounds: $\\Omega(\\sqrt{n})$ quantum separation (or membership) queries are needed for optimization if the algorithm knows an interior point of the convex set, and $\\Omega(n)$ quantum separation queries are needed if it does not.\n",
    "\n",
    "## Preliminaries\n",
    "#### Lipschitz (definition)\n",
    "#### Subgradient (definition)\n",
    "#### Oracles for convex sets\n",
    "Five basic oracles for a convex set K\n",
    "1. Membership oracle $MEM_{\\epsilon,\\rho}(K)$\n",
    "2. Separation oracle $SEP_{\\epsilon,\\rho}(K)$\n",
    "3. Optimization oracle $OPT_{\\epsilon,\\rho}(K)$\n",
    "4. Violation oracle $VIOL_{\\epsilon,\\rho}(K)$\n",
    "5. Validity oracle $VAL_{\\epsilon,\\rho}(K)$\n",
    "\n",
    "<center><img src=\"./images/classical-and-quantum-queries-to-oracles-for-optimization.png\" width=\"1024\"></center>\n",
    "\n",
    "## Computing approximate subgradients of convex Lipschitz functions\n",
    "#### Classical approach\n",
    "#### Quantum Improvements\n",
    "\n",
    "## Algorithms for separation using membership queries\n",
    "\n",
    "## Lower bounds\n",
    "#### Classical lower bound on the number of MEM queries needed for SEP\n",
    "#### Lower bound on number of SEP queries for OPT (with and without interior point)"
   ]
  }
 ],
 "metadata": {
  "language_info": {
   "name": "python"
  },
  "orig_nbformat": 4
 },
 "nbformat": 4,
 "nbformat_minor": 2
}
